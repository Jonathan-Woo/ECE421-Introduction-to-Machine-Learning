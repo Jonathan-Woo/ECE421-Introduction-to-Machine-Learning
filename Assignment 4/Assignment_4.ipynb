{
  "nbformat": 4,
  "nbformat_minor": 0,
  "metadata": {
    "colab": {
      "provenance": []
    },
    "kernelspec": {
      "name": "python3",
      "display_name": "Python 3"
    },
    "accelerator": "GPU",
    "gpuClass": "standard"
  },
  "cells": [
    {
      "cell_type": "markdown",
      "metadata": {
        "id": "oz9MhPEUMrkC"
      },
      "source": [
        "**Assignment**: Designing and Tuning a Convolutional Neural Network (CNN)\n",
        "\n",
        "**Assignment Description**: There are four parts to this assignment\n",
        "\n",
        "1.   Building a CNN\n",
        "2.   Training and Tuning a CNN\n",
        "3.   Trying Out a New Dataset\n",
        "4.   Open-Ended Exploration\n",
        "\n",
        "You will be largely guided through the first two parts. The third and fourth part are discussion based questions. \n",
        "\n",
        "**Before the experiment, make sure that you have GPU enabled. This setting can be found under *Tools --> Settings***"
      ]
    },
    {
      "cell_type": "code",
      "metadata": {
        "id": "jHvVs2GqXxNF"
      },
      "source": [
        "#Install Objax\n",
        "!pip --quiet install  objax\n",
        "import objax"
      ],
      "execution_count": 62,
      "outputs": []
    },
    {
      "cell_type": "code",
      "metadata": {
        "id": "xqQf8f2RBDcx"
      },
      "source": [
        "import tensorflow as tf \n",
        "import tensorflow_datasets as tfds\n",
        "import numpy as np\n",
        "import jax.numpy as jn\n",
        "import random \n",
        "import matplotlib.pyplot as plt"
      ],
      "execution_count": 63,
      "outputs": []
    },
    {
      "cell_type": "markdown",
      "metadata": {
        "id": "w_7vcWRFO39r"
      },
      "source": [
        "##**Part 1. Building a CNN** \n",
        "\n",
        "Before we build our CNN model, let's first import a dataset. For our experiment, we load the CIFAR10 dataset from Tensorflow's dataset repository. The CIFAR10 dataset consists of 60,000 32x32 colour images in 10 classes, with 6000 images per class. The 10 different classes represent airplanes, cars, birds, cats, deer, dogs, frogs, horses, ships, and trucks.\n",
        "\n",
        "After loading the dataset, we split the dataset into training, validation and test set. The dataset is originally stored as 50,000 training examples and 10,000 test examples. Instead, we will combine them together and make our own split.\n",
        "\n",
        "Do not change split ratio for now."
      ]
    },
    {
      "cell_type": "code",
      "metadata": {
        "id": "e5VQDzs1XodT"
      },
      "source": [
        "#.load_data() by default returns a split between training and test set. \n",
        "# We then adjust the training set into a format that can be accepted by our CNN\n",
        "(X_train, Y_train), (X_test, Y_test) = tf.keras.datasets.cifar10.load_data()\n",
        "X_train = X_train.transpose(0, 3, 1, 2) / 255.0\n",
        "Y_train = Y_train.flatten()\n",
        "X_test = X_test.transpose(0, 3, 1, 2) / 255.0\n",
        "Y_test = Y_test.flatten()\n",
        "\n",
        "np.random.seed(1)\n",
        "# To create a validation set, we first concate the original splitted dataset into a single dataset \n",
        "# then randomly shuffle the images and labels in the same way (seed = 1)\n",
        "X_data = np.concatenate([X_train, X_test], axis = 0)\n",
        "Y_data = np.concatenate([Y_train, Y_test], axis = 0)\n",
        "\n",
        "N = np.arange(len(X_data))\n",
        "np.random.shuffle(N)\n",
        "X_data = X_data[N]\n",
        "Y_data = Y_data[N]\n",
        "\n",
        "#Next, we partition the randomly shuffled dataset into training, validation and testset according a ratio\n",
        "train_ratio = 0.80\n",
        "valid_ratio = 0.1\n",
        "n_train = int(len(X_data) * train_ratio)\n",
        "n_valid = int(len(X_data) * valid_ratio)\n",
        "\n",
        "X_train, X_valid, X_test = X_data[:n_train], X_data[n_train:n_train+n_valid], X_data[n_train+n_valid:]\n",
        "Y_train, Y_valid, Y_test = Y_data[:n_train], Y_data[n_train:n_train+n_valid], Y_data[n_train+n_valid:]"
      ],
      "execution_count": 64,
      "outputs": []
    },
    {
      "cell_type": "markdown",
      "source": [
        "1.(1 point) Your data has been split into training, validation and test set. Examine the ratio of the split and number of examples in each set. Suppose you were to train on batches of 32 examples each. That is, in each step of gradient descent, you randomly select 32 examples from the training set, compute your average loss on these examples, and then compute the gradient of this average loss with respect to the model parameters.\n",
        "\n",
        "How many iterations will it take to go through the entire training set given the number of training examples yielded by the data split? How many iterations are there in 30 epochs? Recall that one epoch is the number of iterations needed to train over the entire dataset."
      ],
      "metadata": {
        "id": "_9FJvsEAi45p"
      }
    },
    {
      "cell_type": "code",
      "source": [
        "X_train.shape"
      ],
      "metadata": {
        "colab": {
          "base_uri": "https://localhost:8080/"
        },
        "id": "hsMS56ocjS1k",
        "outputId": "0922403b-0680-420c-d1e1-33fa53418f44"
      },
      "execution_count": 65,
      "outputs": [
        {
          "output_type": "execute_result",
          "data": {
            "text/plain": [
              "(48000, 3, 32, 32)"
            ]
          },
          "metadata": {},
          "execution_count": 65
        }
      ]
    },
    {
      "cell_type": "markdown",
      "source": [
        "With 48000 training examples, at batch of 32 examples each, each epoch will require 48000/32 = 1500 iterations to go through the entire training set.\n",
        "\n",
        "In 30 epochs, there are 30 * 1500 = 45000 total iterations."
      ],
      "metadata": {
        "id": "7mTYkvQljYNZ"
      }
    },
    {
      "cell_type": "markdown",
      "source": [
        "4.(1 point) Explain in a short paragraph what is the difference between the training and validation set.\n",
        "\n",
        "The training set is used to learn parameters of the model through numerical methods including gradient descent. \n",
        "\n",
        "The validatino set is used to learn hyperparameters of the model typically by training multiple models on the training set with varying hyperparameter values and testing on the validation set. Then, the hyperparameters corresponding to the lowest validation loss are chosen."
      ],
      "metadata": {
        "id": "zlGRu2u3kXMv"
      }
    },
    {
      "cell_type": "markdown",
      "metadata": {
        "id": "szDmexFGT7Qs"
      },
      "source": [
        "\n",
        "Next we will construct a **Base Model**, which in our case is a small CNN."
      ]
    },
    {
      "cell_type": "code",
      "metadata": {
        "id": "_Eeh6jvfBV4p"
      },
      "source": [
        "class ConvNet(objax.Module):\n",
        "  def __init__(self, number_of_channels = 3, number_of_classes = 10):\n",
        "    self.conv_1 = objax.nn.Sequential([objax.nn.Conv2D(number_of_channels, 16, 2), objax.functional.relu])\n",
        "    self.conv_2 = objax.nn.Sequential([objax.nn.Conv2D(16, 32, 2), objax.functional.relu])\n",
        "    self.linear = objax.nn.Linear(32, number_of_classes)\n",
        "\n",
        "  def __call__(self, x):\n",
        "    x = objax.functional.max_pool_2d(self.conv_1(x), 2, 2)\n",
        "    x = self.conv_2(x)\n",
        "  \n",
        "    x = x.mean((2,3)) #<--- global average pooling \n",
        "    x = self.linear(x)\n",
        "    return x\n",
        "\n",
        "#The following line creates the CNN\n",
        "model = ConvNet()\n",
        "#You can examine the architecture of our CNN by calling model.vars()"
      ],
      "execution_count": 66,
      "outputs": []
    },
    {
      "cell_type": "markdown",
      "metadata": {
        "id": "Crz2dQZBds89"
      },
      "source": [
        "Before we train our conv net, let's try to better understand concepts of convolution filter and linear layer. In the following, you will take the first very image of the training set, create a simple convolution routine, and show that our own routine matches what Objax returns. \n",
        "\n"
      ]
    },
    {
      "cell_type": "code",
      "metadata": {
        "id": "Epa7ETf6XddH",
        "colab": {
          "base_uri": "https://localhost:8080/",
          "height": 283
        },
        "outputId": "9bf4378d-9b83-44f5-ffaf-67aaf445c63a"
      },
      "source": [
        "#Let's plot the first image in the training set.\n",
        "plt.imshow(X_train[0].transpose(1,2,0))"
      ],
      "execution_count": 67,
      "outputs": [
        {
          "output_type": "execute_result",
          "data": {
            "text/plain": [
              "<matplotlib.image.AxesImage at 0x7f34f47069d0>"
            ]
          },
          "metadata": {},
          "execution_count": 67
        },
        {
          "output_type": "display_data",
          "data": {
            "text/plain": [
              "<Figure size 432x288 with 1 Axes>"
            ],
            "image/png": "[encoded data removed]"
          },
          "metadata": {
            "needs_background": "light"
          }
        }
      ]
    },
    {
      "cell_type": "markdown",
      "metadata": {
        "id": "PQjS06vgXZ7r"
      },
      "source": [
        "Next, we will pass our image through Objax's convolution routine. Carefully examine the following code and try to understand the dimension of the filter weights and the output. "
      ]
    },
    {
      "cell_type": "code",
      "metadata": {
        "id": "vFBbJHBpXXUc",
        "colab": {
          "base_uri": "https://localhost:8080/"
        },
        "outputId": "0bcd56fc-28f0-417d-96fa-f93075ee169e"
      },
      "source": [
        "# We append the first image with a batch size of 1 so it can be fed into a convolution layer\n",
        "my_image = np.expand_dims(X_train[0], 0)\n",
        "\n",
        "#Consider a very simple CNN filter with stride = 1 and no padding ('VALID').\n",
        "Conv2d = objax.nn.Conv2D(nin = 3, nout = 2, k = 1, strides = 1, padding = 'VALID', use_bias = False)\n",
        "\n",
        "filter_weights = Conv2d.w.value #This is the initial weight of the filter, which we gradually update when training, we ignore bias for now\n",
        "\n",
        "print(\"Filter weights:\", filter_weights)\n",
        "print(\"Conv output:\", Conv2d(my_image))\n",
        "print(\"Conv output shape:\", np.shape(Conv2d(my_image)))"
      ],
      "execution_count": 68,
      "outputs": [
        {
          "output_type": "stream",
          "name": "stdout",
          "text": [
            "Filter weights: [[[[-0.0836635   0.29303992]\n",
            "   [-0.6150833  -0.30144012]\n",
            "   [-0.7410647  -0.3469479 ]]]]\n",
            "Conv output: [[[[-0.15979855 -0.15415223 -0.13430713 ... -1.131044   -1.1131169\n",
            "    -1.1040704 ]\n",
            "   [-0.21626174 -0.18561804 -0.19077031 ... -1.1492877  -1.1445751\n",
            "    -1.1389288 ]\n",
            "   [-0.22190806 -0.18803014 -0.21900192 ... -1.1428583  -1.1436299\n",
            "    -1.1383154 ]\n",
            "   ...\n",
            "   [-0.24843808 -0.23714544 -0.23714544 ... -0.31025857 -0.3159049\n",
            "    -0.33284384]\n",
            "   [-0.20891383 -0.1976212  -0.1976212  ... -0.34413648 -0.33849016\n",
            "    -0.33849016]\n",
            "   [-0.18632856 -0.18068224 -0.18632856 ... -0.42318496 -0.41753864\n",
            "    -0.4005997 ]]\n",
            "\n",
            "  [[-0.04659335 -0.04519983 -0.03965868 ... -0.38578457 -0.3812471\n",
            "    -0.37831452]\n",
            "   [-0.06052857 -0.05237884 -0.0535939  ... -0.37775952 -0.38081717\n",
            "    -0.37942368]\n",
            "   [-0.06192209 -0.05356096 -0.06056151 ... -0.35802466 -0.36495265\n",
            "    -0.3662144 ]\n",
            "   ...\n",
            "   [-0.06131497 -0.05852792 -0.05852792 ... -0.05848081 -0.05987434\n",
            "    -0.0640549 ]\n",
            "   [-0.05156032 -0.04877327 -0.04877327 ... -0.06684195 -0.06544843\n",
            "    -0.06544843]\n",
            "   [-0.04598623 -0.0445927  -0.04598623 ... -0.08635126 -0.08495774\n",
            "    -0.08077718]]]]\n",
            "Conv output shape: (1, 2, 32, 32)\n"
          ]
        }
      ]
    },
    {
      "cell_type": "markdown",
      "metadata": {
        "id": "KsDg8yateSuH"
      },
      "source": [
        "**In the cells below, you will create your own convolution routine that takes in the image and the initial weights used by Objax's own convolution routine (Conv2d.w.value) and show that your convolution routine returns the same value than Objax's.**\n",
        "\n",
        "A simple implementation only requires 4 FOR loops. You may wish to draw inspiration from https://objax.readthedocs.io/en/latest/objax/nn.html?highlight=objax.nn.Conv2D#objax.nn.Conv2D"
      ]
    },
    {
      "cell_type": "code",
      "metadata": {
        "id": "f5B6K9gyXTAx"
      },
      "source": [
        "#Solution to the above problem\n",
        "\n",
        "def my_conv_net(my_image, initial_filter_weights):\n",
        "  N, C_in, H_in, W_in = my_image.shape\n",
        "  k, _, _, C_out = initial_filter_weights.shape\n",
        "  H_out = H_in - k + 1\n",
        "  W_out = W_in - k + 1\n",
        "  my_conv_output = jn.zeros((N, C_out, H_out, W_out))\n",
        "  total = 0\n",
        "  for n in range(N):\n",
        "    for c in range(C_out):\n",
        "      for h in range(H_out):\n",
        "        for w in range(W_out):\n",
        "          my_conv_output = my_conv_output.at[n, c, h, w].set(np.sum(my_image[n,:,h:h+k, w:w+k]*initial_filter_weights[:,:,:,c].transpose(2,0,1)))\n",
        "  return my_conv_output"
      ],
      "execution_count": 69,
      "outputs": []
    },
    {
      "cell_type": "code",
      "source": [
        "#test function\n",
        "my_conv_output = my_conv_net(my_image, filter_weights)"
      ],
      "metadata": {
        "id": "mo8iRY4uVXlW"
      },
      "execution_count": 70,
      "outputs": []
    },
    {
      "cell_type": "code",
      "source": [
        "print(\"Conv output:\", my_conv_output)\n",
        "print('Conv output shape:', my_conv_output.shape)\n",
        "print('Conv output absolute mean difference', np.mean(np.absolute((my_conv_output - Conv2d(my_image)))))"
      ],
      "metadata": {
        "colab": {
          "base_uri": "https://localhost:8080/"
        },
        "id": "JSHH2BvoWDN4",
        "outputId": "193a5928-c439-46e1-d27a-51b363203aca"
      },
      "execution_count": 71,
      "outputs": [
        {
          "output_type": "stream",
          "name": "stdout",
          "text": [
            "Conv output: [[[[-0.15979853 -0.15415221 -0.13430712 ... -1.131044   -1.113117\n",
            "    -1.1040704 ]\n",
            "   [-0.21626174 -0.18561804 -0.19077033 ... -1.1492877  -1.1445751\n",
            "    -1.1389288 ]\n",
            "   [-0.22190806 -0.18803014 -0.21900192 ... -1.1428583  -1.1436299\n",
            "    -1.1383154 ]\n",
            "   ...\n",
            "   [-0.24843806 -0.23714542 -0.23714542 ... -0.31025857 -0.31590486\n",
            "    -0.33284384]\n",
            "   [-0.20891383 -0.1976212  -0.1976212  ... -0.34413648 -0.33849016\n",
            "    -0.33849016]\n",
            "   [-0.18632856 -0.18068224 -0.18632856 ... -0.42318496 -0.41753864\n",
            "    -0.4005997 ]]\n",
            "\n",
            "  [[-0.04659335 -0.04519983 -0.03965868 ... -0.38578457 -0.3812471\n",
            "    -0.37831455]\n",
            "   [-0.06052857 -0.05237884 -0.0535939  ... -0.37775952 -0.38081717\n",
            "    -0.37942368]\n",
            "   [-0.06192209 -0.05356096 -0.06056151 ... -0.35802466 -0.36495268\n",
            "    -0.3662144 ]\n",
            "   ...\n",
            "   [-0.06131497 -0.05852792 -0.05852792 ... -0.05848081 -0.05987434\n",
            "    -0.0640549 ]\n",
            "   [-0.05156032 -0.04877327 -0.04877327 ... -0.06684195 -0.06544843\n",
            "    -0.06544843]\n",
            "   [-0.04598623 -0.0445927  -0.04598623 ... -0.08635126 -0.08495774\n",
            "    -0.08077718]]]]\n",
            "Conv output shape: (1, 2, 32, 32)\n",
            "Conv output absolute mean difference 5.7536766e-09\n"
          ]
        }
      ]
    },
    {
      "cell_type": "markdown",
      "source": [
        "Since my convolution output differs from Conv2d by ~5.21e-9 and that it has the same output shape, I can confirm that it performs the same function as Objax's."
      ],
      "metadata": {
        "id": "e41kY2j_bfJH"
      }
    },
    {
      "cell_type": "markdown",
      "metadata": {
        "id": "d9dbovOwiVDE"
      },
      "source": [
        "The outputs of last convolution layer is typically rearranged so it can be fed into a linear layer. Check that calling .mean((2,3)) rearranges the output of your convolution routine by examining the shape of the output. (Not graded) Think about alternative ways of rearranging the output from the convolution layer. "
      ]
    },
    {
      "cell_type": "code",
      "metadata": {
        "id": "q7hngIUNXIMQ",
        "colab": {
          "base_uri": "https://localhost:8080/"
        },
        "outputId": "44a70d24-1b9f-4886-f01d-315424a7dbe5"
      },
      "source": [
        "#Check that .mean((2,3)) rearranges your image\n",
        "my_conv_output.mean((2,3))"
      ],
      "execution_count": 72,
      "outputs": [
        {
          "output_type": "execute_result",
          "data": {
            "text/plain": [
              "DeviceArray([[-0.39710045, -0.07775426]], dtype=float32)"
            ]
          },
          "metadata": {},
          "execution_count": 72
        }
      ]
    },
    {
      "cell_type": "markdown",
      "metadata": {
        "id": "xTWfvL0mis3D"
      },
      "source": [
        "Take your rearranged output and feed it into a linear layer of appropriate size. Here is an example:\n",
        "\n",
        "```\n",
        "Linear_Layer = objax.nn.Linear(N, 1)\n",
        "Y = Linear_Layer(X)\n",
        "```\n",
        "Next, extract the weights and bias of the linear layer using \n",
        "```\n",
        "Linear_Layer.w.value\n",
        "Linear_Layer.b.value\n",
        "```\n",
        "**Using these values, write one line of code that manually implements the linear layer. Show that it provides the same value as Objax's own linear layer.** \n",
        "\n"
      ]
    },
    {
      "cell_type": "code",
      "metadata": {
        "id": "Uq-TkFpgXDC7",
        "colab": {
          "base_uri": "https://localhost:8080/"
        },
        "outputId": "1069b5e8-d0dd-411c-9299-c48e913211c2"
      },
      "source": [
        "X = my_conv_output.mean((2,3))\n",
        "N = X.shape[1]\n",
        "Linear_Layer = objax.nn.Linear(N,1)\n",
        "Y = Linear_Layer(X)\n",
        "\n",
        "w = Linear_Layer.w.value\n",
        "b = Linear_Layer.b.value\n",
        "\n",
        "#ONE LINE HERE\n",
        "my_Y = np.matmul(X,w)+b\n",
        "\n",
        "#Verify that values are same\n",
        "print(Y, my_Y)"
      ],
      "execution_count": 73,
      "outputs": [
        {
          "output_type": "stream",
          "name": "stdout",
          "text": [
            "[[-0.49124828]] [[-0.49124828]]\n"
          ]
        }
      ]
    },
    {
      "cell_type": "markdown",
      "source": [
        "My Y value is equal to the Objax output."
      ],
      "metadata": {
        "id": "9VgMCYEBe6l5"
      }
    },
    {
      "cell_type": "markdown",
      "metadata": {
        "id": "96QQXl3d2kZn"
      },
      "source": [
        "You have now completed Part 1 of the assignment. Good job!\n"
      ]
    },
    {
      "cell_type": "markdown",
      "metadata": {
        "id": "2kqaH75UUaSE"
      },
      "source": [
        "##**Part 2. Training and Tuning a CNN**\n",
        "\n",
        "The following starter code trains the neural network in Part 1. However, the optimizer and batch sampling routine are left for you to implement. Complete the lines that says #PUT YOUR CODE HERE#\n",
        "\n",
        "Afterwards, train the model, and observe the training/validation loss and accuracy plots. You should observe that the validation accuracy is low and stagnates after a few epochs."
      ]
    },
    {
      "cell_type": "code",
      "metadata": {
        "id": "zBcHWoCl0URZ"
      },
      "source": [
        "#Define loss function as averaged value of of cross entropies\n",
        "def loss_function(x, labels):\n",
        "    logit = model(x)\n",
        "    return objax.functional.loss.cross_entropy_logits_sparse(logit, labels).mean()\n",
        "\n",
        "#Define a prediction function\n",
        "predict = objax.Jit(lambda x: objax.functional.softmax(model(x)), model.vars()) \n",
        "\n",
        "#Create an object that can be used to calculate the gradient and value of loss_function\n",
        "gv= objax.GradValues(loss_function, model.vars())\n",
        "\n",
        "#Create an object that can be used to provide trainable variables in the model\n",
        "tv = objax.ModuleList(objax.TrainRef(x) for x in model.vars().subset(objax.TrainVar))\n",
        "\n",
        "#Training routine\n",
        "def train_op(x, y, learning_rate):\n",
        "    lr = learning_rate\n",
        "    gradient, loss_value = gv(x, y)   # calculate gradient and loss value \"backprop\"\n",
        "    #next we update the trainable parameter using SGD and similar procedure\n",
        "    for grad, params in zip(gradient, tv.vars()):\n",
        "      params.assign(params - grad*lr)\n",
        "    return loss_value                      # return loss value\n",
        "\n",
        "#make train_op (much) faster using JIT compilation\n",
        "train_op = objax.Jit(train_op, gv.vars() + tv.vars())"
      ],
      "execution_count": 74,
      "outputs": []
    },
    {
      "cell_type": "code",
      "metadata": {
        "id": "hGPpVTfG0Ug1"
      },
      "source": [
        "def train(EPOCHS = 50, BATCH = 32, LEARNING_RATE = 9e-4):\n",
        "  avg_train_loss_epoch = []\n",
        "  avg_val_loss_epoch = []\n",
        "  train_acc_epoch = []\n",
        "  val_acc_epoch = []\n",
        "\n",
        "  for epoch in range(EPOCHS):\n",
        "      avg_train_loss = 0 # (averaged) training loss per batch\n",
        "      avg_val_loss =  0  # (averaged) validation loss per batch\n",
        "      train_acc = 0      # training accuracy per batch\n",
        "      val_acc = 0        # validation accuracy per batch\n",
        "\n",
        "      # shuffle the examples prior to training to remove correlation \n",
        "      train_indices = np.arange(len(X_train)) \n",
        "      np.random.shuffle(train_indices)\n",
        "      for it in range(0, X_train.shape[0], BATCH):\n",
        "          batch = train_indices[it:it+BATCH]\n",
        "          avg_train_loss += float(train_op(X_train[batch], Y_train[batch], LEARNING_RATE)[0]) * len(batch)\n",
        "          train_prediction = predict(X_train[batch]).argmax(1)\n",
        "          train_acc += (np.array(train_prediction).flatten() == Y_train[batch]).sum()\n",
        "      train_acc_epoch.append(train_acc/X_train.shape[0])\n",
        "      avg_train_loss_epoch.append(avg_train_loss/X_train.shape[0])\n",
        "\n",
        "      # run validation\n",
        "      val_indices = np.arange(len(X_valid)) \n",
        "      np.random.shuffle(val_indices)    \n",
        "      for it in range(0, X_valid.shape[0], BATCH):\n",
        "          batch = val_indices[it:it+BATCH]\n",
        "          avg_val_loss += float(loss_function(X_valid[batch], Y_valid[batch])) * len(batch)\n",
        "          val_prediction = predict(X_valid[batch]).argmax(1)\n",
        "          val_acc += (np.array(val_prediction).flatten() == Y_valid[batch]).sum()\n",
        "      val_acc_epoch.append(val_acc/X_valid.shape[0])\n",
        "      avg_val_loss_epoch.append(avg_val_loss/X_valid.shape[0])\n",
        "\n",
        "      print('Epoch %04d  Training Loss %.2f Validation Loss %.2f Training Accuracy %.2f Validation Accuracy %.2f' % (epoch + 1, avg_train_loss/X_train.shape[0], avg_val_loss/X_valid.shape[0], 100*train_acc/X_train.shape[0], 100*val_acc/X_valid.shape[0]))\n",
        "  \n",
        "  #Plot training loss\n",
        "  plt.title(\"Train vs Validation Loss\")\n",
        "  plt.plot(avg_train_loss_epoch, label=\"Train\")\n",
        "  plt.plot(avg_val_loss_epoch, label=\"Validation\")\n",
        "  plt.xlabel(\"Epoch\")\n",
        "  plt.ylabel(\"Loss\")\n",
        "  plt.legend(loc='best')\n",
        "  plt.show()\n",
        "\n",
        "  plt.title(\"Train vs Validation Accuracy\")\n",
        "  plt.plot(train_acc_epoch, label=\"Train\")\n",
        "  plt.plot(val_acc_epoch, label=\"Validation\")\n",
        "  plt.xlabel(\"Epoch\")\n",
        "  plt.ylabel(\"Accuracy (%)\")\n",
        "  plt.legend(loc='best')\n",
        "  plt.show()"
      ],
      "execution_count": 75,
      "outputs": []
    },
    {
      "cell_type": "code",
      "metadata": {
        "id": "8YqWtV5VYW45",
        "colab": {
          "base_uri": "https://localhost:8080/",
          "height": 1000
        },
        "outputId": "877b52fb-b0ed-4865-84af-4fb333627668"
      },
      "source": [
        "train()"
      ],
      "execution_count": 76,
      "outputs": [
        {
          "output_type": "stream",
          "name": "stdout",
          "text": [
            "Epoch 0001  Training Loss 2.30 Validation Loss 2.29 Training Accuracy 12.47 Validation Accuracy 15.65\n",
            "Epoch 0002  Training Loss 2.29 Validation Loss 2.29 Training Accuracy 14.25 Validation Accuracy 14.07\n",
            "Epoch 0003  Training Loss 2.29 Validation Loss 2.28 Training Accuracy 13.84 Validation Accuracy 14.20\n",
            "Epoch 0004  Training Loss 2.28 Validation Loss 2.28 Training Accuracy 14.19 Validation Accuracy 15.65\n",
            "Epoch 0005  Training Loss 2.28 Validation Loss 2.27 Training Accuracy 15.84 Validation Accuracy 16.27\n",
            "Epoch 0006  Training Loss 2.27 Validation Loss 2.27 Training Accuracy 16.29 Validation Accuracy 16.78\n",
            "Epoch 0007  Training Loss 2.26 Validation Loss 2.26 Training Accuracy 17.12 Validation Accuracy 17.57\n",
            "Epoch 0008  Training Loss 2.25 Validation Loss 2.25 Training Accuracy 17.49 Validation Accuracy 18.50\n",
            "Epoch 0009  Training Loss 2.24 Validation Loss 2.24 Training Accuracy 18.37 Validation Accuracy 18.83\n",
            "Epoch 0010  Training Loss 2.23 Validation Loss 2.22 Training Accuracy 18.80 Validation Accuracy 19.05\n",
            "Epoch 0011  Training Loss 2.22 Validation Loss 2.21 Training Accuracy 19.29 Validation Accuracy 19.12\n",
            "Epoch 0012  Training Loss 2.21 Validation Loss 2.20 Training Accuracy 19.29 Validation Accuracy 19.53\n",
            "Epoch 0013  Training Loss 2.19 Validation Loss 2.18 Training Accuracy 19.41 Validation Accuracy 20.08\n",
            "Epoch 0014  Training Loss 2.18 Validation Loss 2.17 Training Accuracy 20.00 Validation Accuracy 20.20\n",
            "Epoch 0015  Training Loss 2.16 Validation Loss 2.15 Training Accuracy 20.30 Validation Accuracy 20.47\n",
            "Epoch 0016  Training Loss 2.15 Validation Loss 2.14 Training Accuracy 20.61 Validation Accuracy 20.52\n",
            "Epoch 0017  Training Loss 2.14 Validation Loss 2.13 Training Accuracy 21.06 Validation Accuracy 20.83\n",
            "Epoch 0018  Training Loss 2.13 Validation Loss 2.12 Training Accuracy 21.04 Validation Accuracy 21.73\n",
            "Epoch 0019  Training Loss 2.12 Validation Loss 2.12 Training Accuracy 21.40 Validation Accuracy 21.68\n",
            "Epoch 0020  Training Loss 2.12 Validation Loss 2.11 Training Accuracy 22.01 Validation Accuracy 21.77\n",
            "Epoch 0021  Training Loss 2.11 Validation Loss 2.10 Training Accuracy 22.07 Validation Accuracy 22.13\n",
            "Epoch 0022  Training Loss 2.11 Validation Loss 2.10 Training Accuracy 22.39 Validation Accuracy 22.40\n",
            "Epoch 0023  Training Loss 2.10 Validation Loss 2.10 Training Accuracy 22.49 Validation Accuracy 22.55\n",
            "Epoch 0024  Training Loss 2.10 Validation Loss 2.09 Training Accuracy 22.85 Validation Accuracy 22.88\n",
            "Epoch 0025  Training Loss 2.10 Validation Loss 2.09 Training Accuracy 22.91 Validation Accuracy 23.38\n",
            "Epoch 0026  Training Loss 2.09 Validation Loss 2.09 Training Accuracy 23.31 Validation Accuracy 23.57\n",
            "Epoch 0027  Training Loss 2.09 Validation Loss 2.09 Training Accuracy 23.26 Validation Accuracy 23.17\n",
            "Epoch 0028  Training Loss 2.09 Validation Loss 2.08 Training Accuracy 23.58 Validation Accuracy 23.15\n",
            "Epoch 0029  Training Loss 2.09 Validation Loss 2.08 Training Accuracy 23.56 Validation Accuracy 24.02\n",
            "Epoch 0030  Training Loss 2.08 Validation Loss 2.08 Training Accuracy 23.65 Validation Accuracy 23.87\n",
            "Epoch 0031  Training Loss 2.08 Validation Loss 2.08 Training Accuracy 23.89 Validation Accuracy 24.12\n",
            "Epoch 0032  Training Loss 2.08 Validation Loss 2.07 Training Accuracy 24.09 Validation Accuracy 24.47\n",
            "Epoch 0033  Training Loss 2.08 Validation Loss 2.07 Training Accuracy 24.07 Validation Accuracy 24.67\n",
            "Epoch 0034  Training Loss 2.08 Validation Loss 2.07 Training Accuracy 24.21 Validation Accuracy 24.48\n",
            "Epoch 0035  Training Loss 2.07 Validation Loss 2.07 Training Accuracy 24.29 Validation Accuracy 24.80\n",
            "Epoch 0036  Training Loss 2.07 Validation Loss 2.07 Training Accuracy 24.37 Validation Accuracy 24.62\n",
            "Epoch 0037  Training Loss 2.07 Validation Loss 2.07 Training Accuracy 24.39 Validation Accuracy 24.97\n",
            "Epoch 0038  Training Loss 2.07 Validation Loss 2.06 Training Accuracy 24.81 Validation Accuracy 24.97\n",
            "Epoch 0039  Training Loss 2.07 Validation Loss 2.06 Training Accuracy 24.75 Validation Accuracy 24.98\n",
            "Epoch 0040  Training Loss 2.06 Validation Loss 2.06 Training Accuracy 24.93 Validation Accuracy 25.20\n",
            "Epoch 0041  Training Loss 2.06 Validation Loss 2.06 Training Accuracy 25.17 Validation Accuracy 24.95\n",
            "Epoch 0042  Training Loss 2.06 Validation Loss 2.05 Training Accuracy 25.24 Validation Accuracy 25.05\n",
            "Epoch 0043  Training Loss 2.06 Validation Loss 2.05 Training Accuracy 25.28 Validation Accuracy 25.33\n",
            "Epoch 0044  Training Loss 2.06 Validation Loss 2.05 Training Accuracy 25.49 Validation Accuracy 25.45\n",
            "Epoch 0045  Training Loss 2.05 Validation Loss 2.05 Training Accuracy 25.51 Validation Accuracy 25.85\n",
            "Epoch 0046  Training Loss 2.05 Validation Loss 2.05 Training Accuracy 25.77 Validation Accuracy 25.63\n",
            "Epoch 0047  Training Loss 2.05 Validation Loss 2.04 Training Accuracy 25.68 Validation Accuracy 25.85\n",
            "Epoch 0048  Training Loss 2.05 Validation Loss 2.04 Training Accuracy 25.82 Validation Accuracy 25.87\n",
            "Epoch 0049  Training Loss 2.04 Validation Loss 2.04 Training Accuracy 25.89 Validation Accuracy 26.03\n",
            "Epoch 0050  Training Loss 2.04 Validation Loss 2.04 Training Accuracy 26.14 Validation Accuracy 26.45\n"
          ]
        },
        {
          "output_type": "display_data",
          "data": {
            "text/plain": [
              "<Figure size 432x288 with 1 Axes>"
            ],
            "image/png": "[encoded data removed]"
          },
          "metadata": {
            "needs_background": "light"
          }
        },
        {
          "output_type": "display_data",
          "data": {
            "text/plain": [
              "<Figure size 432x288 with 1 Axes>"
            ],
            "image/png": "[encoded data removed]"
          },
          "metadata": {
            "needs_background": "light"
          }
        }
      ]
    },
    {
      "cell_type": "markdown",
      "metadata": {
        "id": "hluN6UIbNyj7"
      },
      "source": [
        "Follow the assignment handout for questions to be answered in this part of the assignment."
      ]
    },
    {
      "cell_type": "markdown",
      "source": [
        "4.(1 point) In one sentence, define the meaning of a “hyperparameter”. Explain in a short paragraph why it is important not to evaluate the accuracy on the test set until all hyperparameters have been tuned.\n",
        "\n",
        "Hyperparameters are parameters that cannot be learned by gradient descent on the training set. Instead, they are intialized/chosen when the model is generated and affect the models behaviour and performance. \n",
        "\n",
        "The accuracy on the test set represents generalizability of the model. Thus, it should only be evaluated once with our final model. After training parameters on the training set and tuning hyperparameters on the validation set, their values are set. Finally, test set is input to the model only once. "
      ],
      "metadata": {
        "id": "ink_dtA-lCRw"
      }
    },
    {
      "cell_type": "markdown",
      "source": [
        "5.(2 points) Select 4 hyperparameters associated with your network, one of the hyperparameter must involve your CNN architecture, and come up with two different sets of hyperparameters.\n",
        "\n",
        "I selected the learning rate, batch size, number of convolutional layers, and the activation function for each convolutional layer.\n",
        "\n",
        "H1 = {0.001, 32, 2, ReLU}\n",
        "H2 = {0.0001, 16, 3, SELU}"
      ],
      "metadata": {
        "id": "mhADP6GrmpPa"
      }
    },
    {
      "cell_type": "markdown",
      "source": [
        "6.(3 points) Create two additional networks M1, M2, each with the set of hyperparameter H1, H2 that you have selected above. Train each model. Report the best validation accuracy as well as the corresponding epoch for which this occurs for the Base Model and your two additional models."
      ],
      "metadata": {
        "id": "KntOt3Tmk9Cn"
      }
    },
    {
      "cell_type": "code",
      "source": [
        "#Create M1\n",
        "class ConvNet(objax.Module):\n",
        "  def __init__(self, number_of_channels = 3, number_of_classes = 10):\n",
        "    #RELU ACTIVATION\n",
        "    #2 CONV LAYERS\n",
        "    self.conv_1 = objax.nn.Sequential([objax.nn.Conv2D(number_of_channels, 16, 2), objax.functional.relu])\n",
        "    self.conv_2 = objax.nn.Sequential([objax.nn.Conv2D(16, 32, 2), objax.functional.relu])\n",
        "    self.linear = objax.nn.Linear(32, number_of_classes)\n",
        "\n",
        "  def __call__(self, x):\n",
        "    x = objax.functional.max_pool_2d(self.conv_1(x), 2, 2)\n",
        "    x = self.conv_2(x)\n",
        "  \n",
        "    x = x.mean((2,3)) #<--- global average pooling \n",
        "    x = self.linear(x)\n",
        "    return x\n",
        "\n",
        "#The following line creates the CNN\n",
        "model = ConvNet()"
      ],
      "metadata": {
        "id": "ZW5uYnHnlhGt"
      },
      "execution_count": 77,
      "outputs": []
    },
    {
      "cell_type": "code",
      "source": [
        "#Define loss function as averaged value of of cross entropies\n",
        "def loss_function(x, labels):\n",
        "    logit = model(x)\n",
        "    return objax.functional.loss.cross_entropy_logits_sparse(logit, labels).mean()\n",
        "\n",
        "#Define a prediction function\n",
        "predict = objax.Jit(lambda x: objax.functional.softmax(model(x)), model.vars()) \n",
        "\n",
        "#Create an object that can be used to calculate the gradient and value of loss_function\n",
        "gv= objax.GradValues(loss_function, model.vars())\n",
        "\n",
        "#Create an object that can be used to provide trainable variables in the model\n",
        "tv = objax.ModuleList(objax.TrainRef(x) for x in model.vars().subset(objax.TrainVar))\n",
        "\n",
        "#Training routine\n",
        "def train_op(x, y, learning_rate):\n",
        "    lr = learning_rate\n",
        "    gradient, loss_value = gv(x, y)   # calculate gradient and loss value \"backprop\"\n",
        "    #next we update the trainable parameter using SGD and similar procedure\n",
        "    for grad, params in zip(gradient, tv.vars()):\n",
        "      params.assign(params - grad*lr)\n",
        "    return loss_value                      # return loss value\n",
        "\n",
        "#make train_op (much) faster using JIT compilation\n",
        "train_op = objax.Jit(train_op, gv.vars() + tv.vars())"
      ],
      "metadata": {
        "id": "IPppEu0Uq9kK"
      },
      "execution_count": 78,
      "outputs": []
    },
    {
      "cell_type": "code",
      "source": [
        "def train_M1(EPOCHS = 50, BATCH = 32, LEARNING_RATE = 0.001):   # 0.001 LR, SIZE 32 BATCH\n",
        "  avg_train_loss_epoch = []\n",
        "  avg_val_loss_epoch = []\n",
        "  train_acc_epoch = []\n",
        "  val_acc_epoch = []\n",
        "\n",
        "  for epoch in range(EPOCHS):\n",
        "      avg_train_loss = 0 # (averaged) training loss per batch\n",
        "      avg_val_loss =  0  # (averaged) validation loss per batch\n",
        "      train_acc = 0      # training accuracy per batch\n",
        "      val_acc = 0        # validation accuracy per batch\n",
        "\n",
        "      # shuffle the examples prior to training to remove correlation \n",
        "      train_indices = np.arange(len(X_train)) \n",
        "      np.random.shuffle(train_indices)\n",
        "      for it in range(0, X_train.shape[0], BATCH):\n",
        "          batch = train_indices[it:it+BATCH]\n",
        "          avg_train_loss += float(train_op(X_train[batch], Y_train[batch], LEARNING_RATE)[0]) * len(batch)\n",
        "          train_prediction = predict(X_train[batch]).argmax(1)\n",
        "          train_acc += (np.array(train_prediction).flatten() == Y_train[batch]).sum()\n",
        "      train_acc_epoch.append(train_acc/X_train.shape[0])\n",
        "      avg_train_loss_epoch.append(avg_train_loss/X_train.shape[0])\n",
        "\n",
        "      # run validation\n",
        "      val_indices = np.arange(len(X_valid)) \n",
        "      np.random.shuffle(val_indices)    \n",
        "      for it in range(0, X_valid.shape[0], BATCH):\n",
        "          batch = val_indices[it:it+BATCH]\n",
        "          avg_val_loss += float(loss_function(X_valid[batch], Y_valid[batch])) * len(batch)\n",
        "          val_prediction = predict(X_valid[batch]).argmax(1)\n",
        "          val_acc += (np.array(val_prediction).flatten() == Y_valid[batch]).sum()\n",
        "      val_acc_epoch.append(val_acc/X_valid.shape[0])\n",
        "      avg_val_loss_epoch.append(avg_val_loss/X_valid.shape[0])\n",
        "\n",
        "      print('Epoch %04d  Training Loss %.2f Validation Loss %.2f Training Accuracy %.2f Validation Accuracy %.2f' % (epoch + 1, avg_train_loss/X_train.shape[0], avg_val_loss/X_valid.shape[0], 100*train_acc/X_train.shape[0], 100*val_acc/X_valid.shape[0]))\n",
        "  \n",
        "  #Plot training loss\n",
        "  plt.title(\"Train vs Validation Loss for M1\")\n",
        "  plt.plot(avg_train_loss_epoch, label=\"Train\")\n",
        "  plt.plot(avg_val_loss_epoch, label=\"Validation\")\n",
        "  plt.xlabel(\"Epoch\")\n",
        "  plt.ylabel(\"Loss\")\n",
        "  plt.legend(loc='best')\n",
        "  plt.show()\n",
        "\n",
        "  plt.title(\"Train vs Validation Accuracy for M1\")\n",
        "  plt.plot(train_acc_epoch, label=\"Train\")\n",
        "  plt.plot(val_acc_epoch, label=\"Validation\")\n",
        "  plt.xlabel(\"Epoch\")\n",
        "  plt.ylabel(\"Accuracy (%)\")\n",
        "  plt.legend(loc='best')\n",
        "  plt.show()\n"
      ],
      "metadata": {
        "id": "A5ABbhvJox8Z"
      },
      "execution_count": 79,
      "outputs": []
    },
    {
      "cell_type": "code",
      "source": [
        "train_M1()"
      ],
      "metadata": {
        "colab": {
          "base_uri": "https://localhost:8080/"
        },
        "id": "2eaTb4OulL8P",
        "outputId": "0bc423b2-2650-44e4-8379-78e7401dedc8"
      },
      "execution_count": null,
      "outputs": [
        {
          "output_type": "stream",
          "name": "stdout",
          "text": [
            "Epoch 0001  Training Loss 2.31 Validation Loss 2.30 Training Accuracy 11.88 Validation Accuracy 13.63\n",
            "Epoch 0002  Training Loss 2.29 Validation Loss 2.29 Training Accuracy 13.70 Validation Accuracy 13.65\n",
            "Epoch 0003  Training Loss 2.29 Validation Loss 2.28 Training Accuracy 14.37 Validation Accuracy 14.60\n",
            "Epoch 0004  Training Loss 2.28 Validation Loss 2.27 Training Accuracy 15.19 Validation Accuracy 15.62\n",
            "Epoch 0005  Training Loss 2.27 Validation Loss 2.27 Training Accuracy 15.90 Validation Accuracy 16.62\n",
            "Epoch 0006  Training Loss 2.26 Validation Loss 2.26 Training Accuracy 16.34 Validation Accuracy 18.08\n",
            "Epoch 0007  Training Loss 2.25 Validation Loss 2.24 Training Accuracy 17.68 Validation Accuracy 18.97\n",
            "Epoch 0008  Training Loss 2.24 Validation Loss 2.23 Training Accuracy 18.34 Validation Accuracy 17.58\n",
            "Epoch 0009  Training Loss 2.23 Validation Loss 2.22 Training Accuracy 18.47 Validation Accuracy 18.00\n",
            "Epoch 0010  Training Loss 2.21 Validation Loss 2.20 Training Accuracy 18.73 Validation Accuracy 18.32\n",
            "Epoch 0011  Training Loss 2.20 Validation Loss 2.19 Training Accuracy 19.29 Validation Accuracy 19.73\n",
            "Epoch 0012  Training Loss 2.18 Validation Loss 2.17 Training Accuracy 19.63 Validation Accuracy 20.38\n",
            "Epoch 0013  Training Loss 2.17 Validation Loss 2.16 Training Accuracy 20.22 Validation Accuracy 20.03\n",
            "Epoch 0014  Training Loss 2.16 Validation Loss 2.15 Training Accuracy 20.52 Validation Accuracy 20.83\n",
            "Epoch 0015  Training Loss 2.14 Validation Loss 2.14 Training Accuracy 21.29 Validation Accuracy 20.37\n",
            "Epoch 0016  Training Loss 2.14 Validation Loss 2.13 Training Accuracy 21.22 Validation Accuracy 21.98\n",
            "Epoch 0017  Training Loss 2.13 Validation Loss 2.12 Training Accuracy 21.93 Validation Accuracy 21.43\n",
            "Epoch 0018  Training Loss 2.12 Validation Loss 2.12 Training Accuracy 22.04 Validation Accuracy 20.83\n",
            "Epoch 0019  Training Loss 2.12 Validation Loss 2.11 Training Accuracy 22.11 Validation Accuracy 22.33\n",
            "Epoch 0020  Training Loss 2.11 Validation Loss 2.11 Training Accuracy 22.48 Validation Accuracy 22.52\n",
            "Epoch 0021  Training Loss 2.11 Validation Loss 2.10 Training Accuracy 22.79 Validation Accuracy 21.92\n",
            "Epoch 0022  Training Loss 2.10 Validation Loss 2.10 Training Accuracy 22.72 Validation Accuracy 21.73\n",
            "Epoch 0023  Training Loss 2.10 Validation Loss 2.10 Training Accuracy 22.60 Validation Accuracy 22.58\n",
            "Epoch 0024  Training Loss 2.10 Validation Loss 2.09 Training Accuracy 23.06 Validation Accuracy 23.58\n",
            "Epoch 0025  Training Loss 2.09 Validation Loss 2.09 Training Accuracy 23.36 Validation Accuracy 23.32\n",
            "Epoch 0026  Training Loss 2.09 Validation Loss 2.09 Training Accuracy 23.29 Validation Accuracy 23.67\n",
            "Epoch 0027  Training Loss 2.09 Validation Loss 2.09 Training Accuracy 23.62 Validation Accuracy 23.35\n",
            "Epoch 0028  Training Loss 2.09 Validation Loss 2.08 Training Accuracy 23.50 Validation Accuracy 22.88\n",
            "Epoch 0029  Training Loss 2.08 Validation Loss 2.08 Training Accuracy 23.64 Validation Accuracy 23.97\n",
            "Epoch 0030  Training Loss 2.08 Validation Loss 2.08 Training Accuracy 23.95 Validation Accuracy 23.70\n",
            "Epoch 0031  Training Loss 2.08 Validation Loss 2.08 Training Accuracy 23.76 Validation Accuracy 24.07\n",
            "Epoch 0032  Training Loss 2.08 Validation Loss 2.08 Training Accuracy 24.18 Validation Accuracy 23.87\n",
            "Epoch 0033  Training Loss 2.08 Validation Loss 2.07 Training Accuracy 24.18 Validation Accuracy 24.15\n",
            "Epoch 0034  Training Loss 2.07 Validation Loss 2.07 Training Accuracy 24.34 Validation Accuracy 23.47\n",
            "Epoch 0035  Training Loss 2.07 Validation Loss 2.07 Training Accuracy 24.29 Validation Accuracy 23.80\n",
            "Epoch 0036  Training Loss 2.07 Validation Loss 2.07 Training Accuracy 24.46 Validation Accuracy 24.65\n",
            "Epoch 0037  Training Loss 2.07 Validation Loss 2.07 Training Accuracy 24.61 Validation Accuracy 24.30\n",
            "Epoch 0038  Training Loss 2.07 Validation Loss 2.06 Training Accuracy 24.75 Validation Accuracy 24.40\n",
            "Epoch 0039  Training Loss 2.06 Validation Loss 2.06 Training Accuracy 24.66 Validation Accuracy 25.13\n",
            "Epoch 0040  Training Loss 2.06 Validation Loss 2.06 Training Accuracy 25.04 Validation Accuracy 25.18\n",
            "Epoch 0041  Training Loss 2.06 Validation Loss 2.06 Training Accuracy 25.05 Validation Accuracy 24.45\n",
            "Epoch 0042  Training Loss 2.06 Validation Loss 2.06 Training Accuracy 24.98 Validation Accuracy 24.52\n",
            "Epoch 0043  Training Loss 2.06 Validation Loss 2.05 Training Accuracy 25.05 Validation Accuracy 25.05\n"
          ]
        }
      ]
    },
    {
      "cell_type": "code",
      "source": [
        "#Create M2\n",
        "class ConvNet(objax.Module):\n",
        "  def __init__(self, number_of_channels = 3, number_of_classes = 10):\n",
        "    #SELU ACTIVATION\n",
        "    self.conv_1 = objax.nn.Sequential([objax.nn.Conv2D(number_of_channels, 16, 2), objax.functional.selu])\n",
        "    self.conv_2 = objax.nn.Sequential([objax.nn.Conv2D(16, 32, 2), objax.functional.selu])\n",
        "    #3 CONV LAYERS\n",
        "    self.conv_3 = objax.nn.Sequential([objax.nn.Conv2D(32, 32, 2), objax.functional.selu])\n",
        "    self.linear = objax.nn.Linear(32, number_of_classes)\n",
        "\n",
        "  def __call__(self, x):\n",
        "    x = objax.functional.max_pool_2d(self.conv_1(x), 2, 2)\n",
        "    x = self.conv_2(x)\n",
        "  \n",
        "    x = x.mean((2,3)) #<--- global average pooling \n",
        "    x = self.linear(x)\n",
        "    return x\n",
        "\n",
        "#The following line creates the CNN\n",
        "model = ConvNet()"
      ],
      "metadata": {
        "id": "76HjonkYoM6C"
      },
      "execution_count": null,
      "outputs": []
    },
    {
      "cell_type": "code",
      "source": [
        "#Define loss function as averaged value of of cross entropies\n",
        "def loss_function(x, labels):\n",
        "    logit = model(x)\n",
        "    return objax.functional.loss.cross_entropy_logits_sparse(logit, labels).mean()\n",
        "\n",
        "#Define a prediction function\n",
        "predict = objax.Jit(lambda x: objax.functional.softmax(model(x)), model.vars()) \n",
        "\n",
        "#Create an object that can be used to calculate the gradient and value of loss_function\n",
        "gv= objax.GradValues(loss_function, model.vars())\n",
        "\n",
        "#Create an object that can be used to provide trainable variables in the model\n",
        "tv = objax.ModuleList(objax.TrainRef(x) for x in model.vars().subset(objax.TrainVar))\n",
        "\n",
        "#Training routine\n",
        "def train_op(x, y, learning_rate):\n",
        "    lr = learning_rate\n",
        "    gradient, loss_value = gv(x, y)   # calculate gradient and loss value \"backprop\"\n",
        "    #next we update the trainable parameter using SGD and similar procedure\n",
        "    for grad, params in zip(gradient, tv.vars()):\n",
        "      params.assign(params - grad*lr)\n",
        "    return loss_value                      # return loss value\n",
        "\n",
        "#make train_op (much) faster using JIT compilation\n",
        "train_op = objax.Jit(train_op, gv.vars() + tv.vars())"
      ],
      "metadata": {
        "id": "GjBeUcPArQ4q"
      },
      "execution_count": null,
      "outputs": []
    },
    {
      "cell_type": "code",
      "source": [
        "def train_M2(EPOCHS = 50, BATCH = 16, LEARNING_RATE = 0.0001):  #0.0001 LR, SIZE 16 BATCH\n",
        "  avg_train_loss_epoch = []\n",
        "  avg_val_loss_epoch = []\n",
        "  train_acc_epoch = []\n",
        "  val_acc_epoch = []\n",
        "\n",
        "  for epoch in range(EPOCHS):\n",
        "      avg_train_loss = 0 # (averaged) training loss per batch\n",
        "      avg_val_loss =  0  # (averaged) validation loss per batch\n",
        "      train_acc = 0      # training accuracy per batch\n",
        "      val_acc = 0        # validation accuracy per batch\n",
        "\n",
        "      # shuffle the examples prior to training to remove correlation \n",
        "      train_indices = np.arange(len(X_train)) \n",
        "      np.random.shuffle(train_indices)\n",
        "      for it in range(0, X_train.shape[0], BATCH):\n",
        "          batch = train_indices[it:it+BATCH]\n",
        "          avg_train_loss += float(train_op(X_train[batch], Y_train[batch], LEARNING_RATE)[0]) * len(batch)\n",
        "          train_prediction = predict(X_train[batch]).argmax(1)\n",
        "          train_acc += (np.array(train_prediction).flatten() == Y_train[batch]).sum()\n",
        "      train_acc_epoch.append(train_acc/X_train.shape[0])\n",
        "      avg_train_loss_epoch.append(avg_train_loss/X_train.shape[0])\n",
        "\n",
        "      # run validation\n",
        "      val_indices = np.arange(len(X_valid)) \n",
        "      np.random.shuffle(val_indices)    \n",
        "      for it in range(0, X_valid.shape[0], BATCH):\n",
        "          batch = val_indices[it:it+BATCH]\n",
        "          avg_val_loss += float(loss_function(X_valid[batch], Y_valid[batch])) * len(batch)\n",
        "          val_prediction = predict(X_valid[batch]).argmax(1)\n",
        "          val_acc += (np.array(val_prediction).flatten() == Y_valid[batch]).sum()\n",
        "      val_acc_epoch.append(val_acc/X_valid.shape[0])\n",
        "      avg_val_loss_epoch.append(avg_val_loss/X_valid.shape[0])\n",
        "\n",
        "      print('Epoch %04d  Training Loss %.2f Validation Loss %.2f Training Accuracy %.2f Validation Accuracy %.2f' % (epoch + 1, avg_train_loss/X_train.shape[0], avg_val_loss/X_valid.shape[0], 100*train_acc/X_train.shape[0], 100*val_acc/X_valid.shape[0]))\n",
        "  \n",
        "  #Plot training loss\n",
        "  plt.title(\"Train vs Validation Loss for M2\")\n",
        "  plt.plot(avg_train_loss_epoch, label=\"Train\")\n",
        "  plt.plot(avg_val_loss_epoch, label=\"Validation\")\n",
        "  plt.xlabel(\"Epoch\")\n",
        "  plt.ylabel(\"Loss\")\n",
        "  plt.legend(loc='best')\n",
        "  plt.show()\n",
        "\n",
        "  plt.title(\"Train vs Validation Accuracy for M2\")\n",
        "  plt.plot(train_acc_epoch, label=\"Train\")\n",
        "  plt.plot(val_acc_epoch, label=\"Validation\")\n",
        "  plt.xlabel(\"Epoch\")\n",
        "  plt.ylabel(\"Accuracy (%)\")\n",
        "  plt.legend(loc='best')\n",
        "  plt.show()\n"
      ],
      "metadata": {
        "id": "DrTy1i4XoM6K"
      },
      "execution_count": null,
      "outputs": []
    },
    {
      "cell_type": "code",
      "source": [
        "train_M2()"
      ],
      "metadata": {
        "id": "3-aY3V7koM6K"
      },
      "execution_count": null,
      "outputs": []
    },
    {
      "cell_type": "code",
      "source": [],
      "metadata": {
        "id": "8SwTIjc3pThT"
      },
      "execution_count": null,
      "outputs": []
    },
    {
      "cell_type": "markdown",
      "metadata": {
        "id": "_XOXmJiGZF78"
      },
      "source": [
        "You have now completed Part 2 of the assignment. Good job!\n"
      ]
    },
    {
      "cell_type": "markdown",
      "metadata": {
        "id": "cno9fjO1o2Jq"
      },
      "source": [
        "##**Part 3. Trying Out a New Dataset**\n",
        "\n",
        "See the handout for instructions.\n"
      ]
    },
    {
      "cell_type": "markdown",
      "metadata": {
        "id": "Eye-uBnQWgc8"
      },
      "source": [
        "##**Problem 4. Open-Ended Exploration**\n",
        "\n",
        "See the handout for instructions."
      ]
    }
  ]
}